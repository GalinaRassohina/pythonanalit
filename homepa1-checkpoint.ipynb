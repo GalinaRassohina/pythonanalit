{
 "cells": [
  {
   "cell_type": "markdown",
   "id": "e8ec400e",
   "metadata": {},
   "source": [
    "# Задание 1:\n",
    "На складе лежат разные фрукты в разном количестве.\n",
    "Нужно написать функцию, которая на вход принимает любое количество названий фруктов и их количество, а возвращает общее количество фруктов на складе"
   ]
  },
  {
   "cell_type": "code",
   "execution_count": 10,
   "id": "68a74b9f",
   "metadata": {},
   "outputs": [],
   "source": [
    "sklad = {'banana': 8, 'mango': 7, 'apple': 8}"
   ]
  },
  {
   "cell_type": "code",
   "execution_count": 11,
   "id": "49041ff0",
   "metadata": {},
   "outputs": [],
   "source": [
    "def frukt(**kwargs):\n",
    "    count_frukt = sum(kwargs.values())\n",
    "    return count_frukt"
   ]
  },
  {
   "cell_type": "code",
   "execution_count": 12,
   "id": "15914535",
   "metadata": {},
   "outputs": [
    {
     "data": {
      "text/plain": [
       "23"
      ]
     },
     "execution_count": 12,
     "metadata": {},
     "output_type": "execute_result"
    }
   ],
   "source": [
    "frukt(**sklad)"
   ]
  },
  {
   "cell_type": "markdown",
   "id": "7dbc0205",
   "metadata": {},
   "source": [
    "# Задание 2:\n",
    "Дан список с затратами на рекламу. Но в данных есть ошибки, некоторые затраты имеют отрицательную величину. Удалите такие значения из списка и посчитайте суммарные затраты\n",
    "[100, 125, -90, 345, 655, -1, 0, 200]\n",
    "Используйте list comprehensions"
   ]
  },
  {
   "cell_type": "code",
   "execution_count": 19,
   "id": "a0fdd96b",
   "metadata": {},
   "outputs": [],
   "source": [
    "dan_list = [100, 125, -90, 345, 655, -1, 0, 200]"
   ]
  },
  {
   "cell_type": "code",
   "execution_count": 20,
   "id": "6d40ad16",
   "metadata": {},
   "outputs": [],
   "source": [
    "new_list = [i for i in dan_list if i>0]"
   ]
  },
  {
   "cell_type": "code",
   "execution_count": 21,
   "id": "dca87cd0",
   "metadata": {},
   "outputs": [
    {
     "data": {
      "text/plain": [
       "[100, 125, 345, 655, 200]"
      ]
     },
     "execution_count": 21,
     "metadata": {},
     "output_type": "execute_result"
    }
   ],
   "source": [
    "new_list"
   ]
  },
  {
   "cell_type": "code",
   "execution_count": 22,
   "id": "435d1111",
   "metadata": {},
   "outputs": [
    {
     "data": {
      "text/plain": [
       "1425"
      ]
     },
     "execution_count": 22,
     "metadata": {},
     "output_type": "execute_result"
    }
   ],
   "source": [
    "sum(i for i in dan_list if i>0 )"
   ]
  },
  {
   "cell_type": "markdown",
   "id": "496e8b9a",
   "metadata": {},
   "source": [
    "# Задание 3.1:\n",
    "Даны два списка.\n",
    "Дата покупки\n",
    "['2021-09-14', '2021-12-15', '2021-09-08', '2021-12-05', '2021-10-09', '2021-09-30', '2021-12-22', '2021-11-29', '2021-12-24', '2021-11-26', '2021-10-27', '2021-12-18', '2021-11-09', '2021-11-23', '2021-09-27', '2021-10-02', '2021-12-27', '2021-09-20', '2021-12-13', '2021-11-01', '2021-11-09', '2021-12-06', '2021-12-08', '2021-10-09', '2021-10-31', '2021-09-30', '2021-11-09', '2021-12-13', '2021-10-26', '2021-12-09']\n",
    "Суммы покупок по датам\n",
    "[1270, 8413, 9028, 3703, 5739, 4095, 295, 4944, 5723, 3701, 4471, 651, 7037, 4274, 6275, 4988, 6930, 2971, 6592, 2004, 2822, 519, 3406, 2732, 5015, 2008, 316, 6333, 5700, 2887]\n",
    "Найдите, какая выручка у компании в ноябре\n",
    "Используйте list comprehensions"
   ]
  },
  {
   "cell_type": "code",
   "execution_count": 23,
   "id": "67fbcc53",
   "metadata": {},
   "outputs": [],
   "source": [
    "data_list = ['2021-09-14', '2021-12-15', '2021-09-08', '2021-12-05', '2021-10-09', '2021-09-30', '2021-12-22', '2021-11-29', '2021-12-24', '2021-11-26', '2021-10-27', '2021-12-18', '2021-11-09', '2021-11-23', '2021-09-27', '2021-10-02', '2021-12-27', '2021-09-20', '2021-12-13', '2021-11-01', '2021-11-09', '2021-12-06', '2021-12-08', '2021-10-09', '2021-10-31', '2021-09-30', '2021-11-09', '2021-12-13', '2021-10-26', '2021-12-09']"
   ]
  },
  {
   "cell_type": "code",
   "execution_count": 24,
   "id": "5355cf08",
   "metadata": {},
   "outputs": [],
   "source": [
    "price_list =[1270, 8413, 9028, 3703, 5739, 4095, 295, 4944, 5723, 3701, 4471, 651, 7037, 4274, 6275, 4988, 6930, 2971, 6592, 2004, 2822, 519, 3406, 2732, 5015, 2008, 316, 6333, 5700, 2887]"
   ]
  },
  {
   "cell_type": "code",
   "execution_count": 27,
   "id": "c09a6cbc",
   "metadata": {},
   "outputs": [
    {
     "data": {
      "text/plain": [
       "25098"
      ]
     },
     "execution_count": 27,
     "metadata": {},
     "output_type": "execute_result"
    }
   ],
   "source": [
    "sum([price_list[i] if '-11-' in data_list[i] else 0 for i in range(len(data_list))])"
   ]
  },
  {
   "cell_type": "markdown",
   "id": "a409428f",
   "metadata": {},
   "source": [
    "# Задание 3.2:\n",
    " Найдите выручку компании в зависимости от месяца\n",
    "Для этого напишите функцию, которая на вход принимает список с датами и список с выручкой, а на выходе словарь, где ключи - это месяцы, а значения - это выручка."
   ]
  },
  {
   "cell_type": "code",
   "execution_count": 42,
   "id": "82fbb13c",
   "metadata": {},
   "outputs": [],
   "source": [
    " def reven(data_list: list, price_list: list) -> dict:\n",
    "       \n",
    "    new_reven = {}\n",
    "    for i in range(len(data_list)):\n",
    "        if  data_list[i][5:7] not in new_reven:\n",
    "            new_reven[data_list[i][5:7]] = 0\n",
    "        else:\n",
    "                new_reven[data_list[i][5:7]] +=price_list[i]\n",
    "    return dict(sorted(new_reven.items())) \n",
    "               \n",
    "    "
   ]
  },
  {
   "cell_type": "code",
   "execution_count": 43,
   "id": "4090eedd",
   "metadata": {},
   "outputs": [
    {
     "data": {
      "text/plain": [
       "{'09': 24377, '10': 22906, '11': 20154, '12': 37039}"
      ]
     },
     "execution_count": 43,
     "metadata": {},
     "output_type": "execute_result"
    }
   ],
   "source": [
    "reven(data_list, price_list)"
   ]
  },
  {
   "cell_type": "code",
   "execution_count": null,
   "id": "62cffb39",
   "metadata": {},
   "outputs": [],
   "source": []
  }
 ],
 "metadata": {
  "kernelspec": {
   "display_name": "Python 3 (ipykernel)",
   "language": "python",
   "name": "python3"
  },
  "language_info": {
   "codemirror_mode": {
    "name": "ipython",
    "version": 3
   },
   "file_extension": ".py",
   "mimetype": "text/x-python",
   "name": "python",
   "nbconvert_exporter": "python",
   "pygments_lexer": "ipython3",
   "version": "3.9.13"
  }
 },
 "nbformat": 4,
 "nbformat_minor": 5
}
